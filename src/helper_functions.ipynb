{
 "cells": [
  {
   "cell_type": "markdown",
   "metadata": {},
   "source": [
    "### Helper Functions Used Across Project"
   ]
  },
  {
   "cell_type": "code",
   "execution_count": 1,
   "metadata": {},
   "outputs": [],
   "source": [
    "#Convert object to float eliminating symbols like +-,*\n",
    "def obt_to_float(ser):\n",
    "    ser_float=ser.str.replace(',', '').str.replace('+', '').str.replace('-', '').replace('', np.nan).replace('**', np.nan).replace('***', np.nan).astype(float)\n",
    "    return ser_float"
   ]
  },
  {
   "cell_type": "code",
   "execution_count": 6,
   "metadata": {},
   "outputs": [],
   "source": [
    "#Check conversion from objet to float for special cases:\n",
    "def qc_obj_to_float(oldser, newser):\n",
    "    tmp_counter=0\n",
    "    for _ in oldser:\n",
    "        if (\"+\" in _) or (\"-\" in _ and len(_)>1) or ('*' in _): \n",
    "            print(f\"Index: {tmp_counter}, \\t Old value: {oldser[tmp_counter]}, \\t \\\n",
    "                New value: {newser[tmp_counter]}\")\n",
    "        tmp_counter+=1"
   ]
  },
  {
   "cell_type": "code",
   "execution_count": null,
   "metadata": {},
   "outputs": [],
   "source": []
  }
 ],
 "metadata": {
  "kernelspec": {
   "display_name": "umich_ds",
   "language": "python",
   "name": "python3"
  },
  "language_info": {
   "codemirror_mode": {
    "name": "ipython",
    "version": 3
   },
   "file_extension": ".py",
   "mimetype": "text/x-python",
   "name": "python",
   "nbconvert_exporter": "python",
   "pygments_lexer": "ipython3",
   "version": "3.11.7"
  }
 },
 "nbformat": 4,
 "nbformat_minor": 2
}
