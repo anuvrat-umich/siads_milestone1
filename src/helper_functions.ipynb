{
 "cells": [
  {
   "cell_type": "markdown",
   "metadata": {},
   "source": [
    "### Helper Functions Used Across Project\n"
   ]
  },
  {
   "cell_type": "code",
   "execution_count": 1,
   "metadata": {},
   "outputs": [],
   "source": [
    "# Library definitions required for helper functions\n",
    "import pandas as pd\n",
    "import numpy as np"
   ]
  },
  {
   "cell_type": "code",
   "execution_count": 7,
   "metadata": {},
   "outputs": [],
   "source": [
    "# Convert object to float eliminating symbols like +-,*\n",
    "def obt_to_float(ser: pd.Series) -> pd.Series:  # Typehinting implemented\n",
    "    \"\"\"\n",
    "    Write the docstring\n",
    "    \"\"\"\n",
    "    ser_float = (\n",
    "        ser.str.replace(\",\", \"\")\n",
    "        .str.replace(\"+\", \"\")\n",
    "        .str.replace(\"-\", \"\")\n",
    "        .replace(\"\", np.nan)\n",
    "        .replace(\"**\", np.nan)\n",
    "        .replace(\"***\", np.nan)\n",
    "        .astype(float)\n",
    "    )\n",
    "    return ser_float"
   ]
  },
  {
   "cell_type": "code",
   "execution_count": 8,
   "metadata": {},
   "outputs": [],
   "source": [
    "# Check conversion from objet to float for special cases:\n",
    "def qc_obj_to_float(oldser: pd.Series, newser: pd.Series) -> None:\n",
    "    \"\"\"\n",
    "    Description: Write the docstring\n",
    "\n",
    "    Warning:\n",
    "\n",
    "    Parameters:\n",
    "\n",
    "    Returns:\n",
    "    \"\"\"\n",
    "    tmp_counter = 0\n",
    "    for _ in oldser:\n",
    "        if (\"+\" in _) or (\"-\" in _ and len(_) > 1) or (\"*\" in _):\n",
    "            print(\n",
    "                f\"Index: {tmp_counter}, \\t Old value: {oldser[tmp_counter]}, \\t \\\n",
    "                New value: {newser[tmp_counter]}\"\n",
    "            )\n",
    "        tmp_counter += 1"
   ]
  },
  {
   "cell_type": "code",
   "execution_count": 9,
   "metadata": {},
   "outputs": [],
   "source": [
    "# Check % of missing numeric values in a pandas dataframe\n",
    "def perc_missing_num(df: pd.DataFrame) -> pd.DataFrame:\n",
    "    \"\"\"\n",
    "    Write the docstring\n",
    "    \"\"\"\n",
    "    number_missing = df.isnull().sum()\n",
    "    percent_missing = number_missing * 100 / len(df)\n",
    "    missing_value_df = (\n",
    "        pd.DataFrame(\n",
    "            {\n",
    "                \"column\": df.columns,\n",
    "                \"number_missing\": number_missing,\n",
    "                \"percent_missing\": percent_missing,\n",
    "            }\n",
    "        )\n",
    "        .reset_index()\n",
    "        .drop(columns=\"index\")\n",
    "    )\n",
    "    print(f\"Number of records in dataset: {len(df)}\")\n",
    "    print(\"Missing records summary:\")\n",
    "    return missing_value_df.sort_values(\"percent_missing\")"
   ]
  },
  {
   "cell_type": "code",
   "execution_count": null,
   "metadata": {},
   "outputs": [],
   "source": []
  }
 ],
 "metadata": {
  "kernelspec": {
   "display_name": "umich_ds",
   "language": "python",
   "name": "python3"
  },
  "language_info": {
   "codemirror_mode": {
    "name": "ipython",
    "version": 3
   },
   "file_extension": ".py",
   "mimetype": "text/x-python",
   "name": "python",
   "nbconvert_exporter": "python",
   "pygments_lexer": "ipython3",
   "version": "3.11.7"
  }
 },
 "nbformat": 4,
 "nbformat_minor": 2
}
