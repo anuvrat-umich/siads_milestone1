{
 "cells": [
  {
   "cell_type": "markdown",
   "metadata": {},
   "source": [
    "## Creating a basic regression model"
   ]
  },
  {
   "cell_type": "markdown",
   "metadata": {},
   "source": [
    "### Declarations"
   ]
  },
  {
   "cell_type": "code",
   "execution_count": 3,
   "metadata": {},
   "outputs": [],
   "source": [
    "# Importing utilities file with library imports and helper functions\n",
    "%run \"utils.ipynb\""
   ]
  },
  {
   "cell_type": "code",
   "execution_count": 4,
   "metadata": {},
   "outputs": [],
   "source": [
    "# Loading input pickle files\n",
    "df_combined=pd.read_pickle(input_path+\"\\\\combined_dataset_nona.pkl\")\n",
    "df_combined_florida=pd.read_pickle(input_path+\"\\\\combined_dataset_nona_florida.pkl\")"
   ]
  },
  {
   "cell_type": "markdown",
   "metadata": {},
   "source": [
    "### Logistic Regression"
   ]
  },
  {
   "cell_type": "code",
   "execution_count": 28,
   "metadata": {},
   "outputs": [],
   "source": [
    "## Import libraries\n",
    "from sklearn.linear_model import LinearRegression\n",
    "from sklearn.model_selection import train_test_split\n",
    "from sklearn.preprocessing import StandardScaler\n",
    "from sklearn.metrics import (\n",
    "    r2_score,\n",
    "    mean_squared_error,\n",
    "    mean_absolute_error,\n",
    "    mean_absolute_percentage_error,\n",
    ")\n",
    "\n",
    "# from sklearn.metrics import root_mean_squared_error #Doesn't work. Check the following link.\n",
    "# https://scikit-learn.org/stable/modules/generated/sklearn.metrics.root_mean_squared_error.html#sklearn.metrics.root_mean_squared_error"
   ]
  },
  {
   "cell_type": "code",
   "execution_count": 17,
   "metadata": {},
   "outputs": [],
   "source": [
    "# Create X and y datasets\n",
    "X_raw = df_combined[\n",
    "    [\n",
    "        \"Estimate Households Total\",\n",
    "        \"Percent Households lt 10k\",\n",
    "        \"Estimate Households Median income (dollars)\",\n",
    "        \"Percent Households that are Families\",\n",
    "        \"Housing cost burden among households\",\n",
    "        \"No broadband internet subscription among households\",\n",
    "        \"No high school diploma among adults aged 25 years or older\",\n",
    "        \"Persons living below 150% of the poverty level\",\n",
    "        \"Persons of racial or ethnic minority status\",\n",
    "        \"Single-parent households\",\n",
    "        \"Unemployment among people 16 years and older in the labor force\",\n",
    "        #\"Percent_Urban\",\n",
    "        \"spend_2017\",\n",
    "        \"spend_2018\",\n",
    "        \"spend_2019\",\n",
    "        \"spend_2020\",\n",
    "    ]\n",
    "]\n",
    "y = df_combined[\"General Health\"]"
   ]
  },
  {
   "cell_type": "code",
   "execution_count": 19,
   "metadata": {},
   "outputs": [],
   "source": [
    "# Using standard scaler on the X_raw dataset\n",
    "scaler = StandardScaler()\n",
    "X=scaler.fit_transform(X_raw)"
   ]
  },
  {
   "cell_type": "code",
   "execution_count": 46,
   "metadata": {},
   "outputs": [
    {
     "ename": "TypeError",
     "evalue": "LinearRegression.__init__() got an unexpected keyword argument 'seed'",
     "output_type": "error",
     "traceback": [
      "\u001b[1;31m---------------------------------------------------------------------------\u001b[0m",
      "\u001b[1;31mTypeError\u001b[0m                                 Traceback (most recent call last)",
      "Cell \u001b[1;32mIn[46], line 5\u001b[0m\n\u001b[0;32m      2\u001b[0m X_train, X_test, y_train, y_test \u001b[38;5;241m=\u001b[39m train_test_split(X, y, test_size\u001b[38;5;241m=\u001b[39m\u001b[38;5;241m0.2\u001b[39m, random_state\u001b[38;5;241m=\u001b[39m\u001b[38;5;241m42\u001b[39m)\n\u001b[0;32m      4\u001b[0m \u001b[38;5;66;03m# Create the linear regression model\u001b[39;00m\n\u001b[1;32m----> 5\u001b[0m linreg \u001b[38;5;241m=\u001b[39m LinearRegression(seed\u001b[38;5;241m=\u001b[39m\u001b[38;5;241m42\u001b[39m)\n\u001b[0;32m      7\u001b[0m \u001b[38;5;66;03m# Fit the model on the training data\u001b[39;00m\n\u001b[0;32m      8\u001b[0m linreg\u001b[38;5;241m.\u001b[39mfit(X_train, y_train)\n",
      "\u001b[1;31mTypeError\u001b[0m: LinearRegression.__init__() got an unexpected keyword argument 'seed'"
     ]
    }
   ],
   "source": [
    "#Random state not needed since linear regression is a deterministic algorithm with global optimum / minimum\n",
    "# Split the data into training and testing sets\n",
    "X_train, X_test, y_train, y_test = train_test_split(X, y, test_size=0.2, random_state=42)\n",
    "\n",
    "# Create the linear regression model\n",
    "linreg = LinearRegression()\n",
    "\n",
    "# Fit the model on the training data\n",
    "linreg.fit(X_train, y_train)\n",
    "\n",
    "# Print the coefficients\n",
    "print(\"Intercept:\", linreg.intercept_)\n",
    "print(\"Coefficients:\", dict(zip(X_raw.columns, linreg.coef_)))\n",
    "\n",
    "# Evaluate the model on the training data\n",
    "linreg_score = linreg.score(X_train, y_train)\n",
    "print(\"Linear Regression Score:\", linreg_score)\n",
    "print(\"r2_score:\", r2_score(y_train, linreg.predict(X_train)))\n",
    "print(\"rmse:\", mean_squared_error(y_train, linreg.predict(X_train), squared=False))\n",
    "print(\"MAPE:\", mean_absolute_percentage_error(y_train, linreg.predict(X_train)))\n",
    "print(\"MAE:\", mean_absolute_error(y_train, linreg.predict(X_train)))\n",
    "\n",
    "\n",
    "# Evaluate the model on the testing data\n",
    "linreg_score = linreg.score(X_test, y_test)\n",
    "print(\"Linear Regression Score:\", linreg_score)\n",
    "print(\"r2_score:\", r2_score(y_test, linreg.predict(X_test)))\n",
    "print(\"rmse:\", mean_squared_error(y_test, linreg.predict(X_test), squared=False))\n",
    "print(\"MAPE:\", mean_absolute_percentage_error(y_test, linreg.predict(X_test)))\n",
    "print(\"MAE:\", mean_absolute_error(y_test, linreg.predict(X_test)))\n",
    "\n",
    "import statsmodels.api as sm\n",
    "\n",
    "# Add a constant column to X_train\n",
    "X_train = sm.add_constant(X_train)\n",
    "\n",
    "# Create the linear regression model\n",
    "linreg = sm.OLS(y_train, X_train)\n",
    "\n",
    "# Fit the model on the training data\n",
    "linreg_results = linreg.fit()\n",
    "\n",
    "# Print the coefficients with p-values and feature names\n",
    "linreg_results.summary()"
   ]
  },
  {
   "cell_type": "code",
   "execution_count": null,
   "metadata": {},
   "outputs": [],
   "source": []
  }
 ],
 "metadata": {
  "kernelspec": {
   "display_name": "umich_ds",
   "language": "python",
   "name": "python3"
  },
  "language_info": {
   "codemirror_mode": {
    "name": "ipython",
    "version": 3
   },
   "file_extension": ".py",
   "mimetype": "text/x-python",
   "name": "python",
   "nbconvert_exporter": "python",
   "pygments_lexer": "ipython3",
   "version": "3.11.7"
  }
 },
 "nbformat": 4,
 "nbformat_minor": 2
}
