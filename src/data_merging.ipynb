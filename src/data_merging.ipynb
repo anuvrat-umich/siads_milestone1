{
 "cells": [
  {
   "cell_type": "markdown",
   "metadata": {},
   "source": [
    "### Data Merge"
   ]
  },
  {
   "cell_type": "markdown",
   "metadata": {},
   "source": [
    "##### Declarations"
   ]
  },
  {
   "cell_type": "code",
   "execution_count": 11,
   "metadata": {},
   "outputs": [],
   "source": [
    "#Defining libraries\n",
    "import pandas as pd\n",
    "import matplotlib.pyplot as plt\n",
    "import numpy as np"
   ]
  },
  {
   "cell_type": "code",
   "execution_count": 12,
   "metadata": {},
   "outputs": [],
   "source": [
    "#Importing helper functions\n",
    "%run \"helper_functions.ipynb\""
   ]
  },
  {
   "cell_type": "code",
   "execution_count": 13,
   "metadata": {},
   "outputs": [],
   "source": [
    "#Setting pandas option to disable scientific notation\n",
    "pd.set_option('display.max_rows', 10000)"
   ]
  },
  {
   "cell_type": "code",
   "execution_count": 14,
   "metadata": {},
   "outputs": [],
   "source": [
    "#Input and output paths for all pickle files. To be used to load and save these files\n",
    "#Output\n",
    "input_path=\"C:\\\\Users\\\\Anuvrat\\\\OneDrive\\\\Documents\\\\milestone1\\\\data\\\\inputs\"\n",
    "output_path=\"C:\\\\Users\\\\Anuvrat\\\\OneDrive\\\\Documents\\\\milestone1\\\\data\\\\inputs\""
   ]
  },
  {
   "cell_type": "code",
   "execution_count": 15,
   "metadata": {},
   "outputs": [],
   "source": [
    "#Loading input pickle files\n",
    "df_income_1901_edited=pd.read_pickle(input_path+\"\\\\df_income_1901_edited.pkl\")\n",
    "df_health_outcomes_edited=pd.read_pickle(input_path+\"\\\\df_health_outcomes_edited.pkl\")\n",
    "df_sdoh_edited=pd.read_pickle(input_path+\"\\\\df_sdoh_edited.pkl\")\n",
    "df_state_politics_edited=pd.read_pickle(input_path+\"\\\\df_state_politics_edited.pkl\")\n",
    "df_state_public_spend_edited=pd.read_pickle(input_path+\"\\\\df_state_public_spend_edited.pkl\")\n",
    "df_acs_edited=pd.read_pickle(input_path+\"\\\\df_acs_edited.pkl\")\n",
    "df_zip2st_edited=pd.read_pickle(input_path+\"\\\\df_zip2st_edited.pkl\")"
   ]
  },
  {
   "cell_type": "code",
   "execution_count": 16,
   "metadata": {},
   "outputs": [
    {
     "name": "stdout",
     "output_type": "stream",
     "text": [
      "(33774, 15)\n",
      "(1169992, 10)\n",
      "(291024, 4)\n",
      "(57, 3)\n",
      "(255, 3)\n",
      "(33120, 14)\n"
     ]
    }
   ],
   "source": [
    "#Printing shapes to check which file needs most attention for data compression\n",
    "for df in [df_income_1901_edited, df_health_outcomes_edited, df_sdoh_edited, df_state_politics_edited, df_state_public_spend_edited, df_acs_edited]:\n",
    "    print(df.shape)"
   ]
  },
  {
   "cell_type": "markdown",
   "metadata": {},
   "source": [
    "##### ZIP level data"
   ]
  },
  {
   "cell_type": "code",
   "execution_count": 17,
   "metadata": {},
   "outputs": [
    {
     "data": {
      "text/plain": [
       "(33774, 32409, 32336, 33120)"
      ]
     },
     "execution_count": 17,
     "metadata": {},
     "output_type": "execute_result"
    }
   ],
   "source": [
    "df_income_1901_edited.ZIP.nunique(), df_health_outcomes_edited.ZIP.nunique(), df_sdoh_edited.ZIP.nunique(), df_acs_edited.ZIP.nunique()"
   ]
  },
  {
   "cell_type": "code",
   "execution_count": 18,
   "metadata": {},
   "outputs": [
    {
     "data": {
      "text/plain": [
       "(33774, 9)"
      ]
     },
     "execution_count": 18,
     "metadata": {},
     "output_type": "execute_result"
    }
   ],
   "source": [
    "df_income_1901_essential=df_income_1901_edited[['ZIP', 'Estimate Households Total', 'Percent Households lt 10k', \n",
    "                                                'Estimate Households Median income (dollars)', 'Estimate Families Total',\n",
    "                                                'Estimate Families Median income (dollars)', 'Estimate Nonfamily households Total',\n",
    "                                                'Estimate Nonfamily households Median income (dollars)', 'Percent Households that are Families']]\n",
    "df_income_1901_essential.shape"
   ]
  },
  {
   "cell_type": "code",
   "execution_count": 19,
   "metadata": {},
   "outputs": [
    {
     "data": {
      "text/plain": [
       "(32409, 39)"
      ]
     },
     "execution_count": 19,
     "metadata": {},
     "output_type": "execute_result"
    }
   ],
   "source": [
    "df_health_outcomes_essential=df_health_outcomes_edited[['ZIP', 'TotalPopulation', 'Short_Question_Text', 'Data_Value']]\n",
    "df_health_outcomes_essential_wide=df_health_outcomes_essential.pivot(index=['ZIP', 'TotalPopulation'], columns='Short_Question_Text', \n",
    "                                                                     values='Data_Value').reset_index().rename_axis(None, axis=1)\n",
    "#display(df_health_outcomes_essential_wide.head())\n",
    "df_health_outcomes_essential_wide.shape"
   ]
  },
  {
   "cell_type": "code",
   "execution_count": 20,
   "metadata": {},
   "outputs": [
    {
     "data": {
      "text/plain": [
       "(32336, 11)"
      ]
     },
     "execution_count": 20,
     "metadata": {},
     "output_type": "execute_result"
    }
   ],
   "source": [
    "df_sdoh_essential_wide=df_sdoh_edited.pivot(index=['ZIP', 'TotalPopulation'], columns='Measure', \n",
    "                                                                     values='Data_Value').reset_index().rename_axis(None, axis=1)\n",
    "#display(df_sdoh_essential_wide.head())\n",
    "df_sdoh_essential_wide.shape"
   ]
  },
  {
   "cell_type": "markdown",
   "metadata": {},
   "source": [
    "##### State level data"
   ]
  },
  {
   "cell_type": "code",
   "execution_count": 21,
   "metadata": {},
   "outputs": [
    {
     "name": "stdout",
     "output_type": "stream",
     "text": [
      "df_state_politics_edited (57, 3) 57\n",
      "df_zip2st_edited (39368, 2) 39368\n",
      "df_state_public_spend_edited (255, 3) 51\n"
     ]
    }
   ],
   "source": [
    "#Checking if any of the state level data needs to be pivoted\n",
    "print(\"df_state_politics_edited\", df_state_politics_edited.shape, df_state_politics_edited.State.nunique())\n",
    "print(\"df_zip2st_edited\", df_zip2st_edited.shape, df_zip2st_edited.ZIP.nunique())\n",
    "print(\"df_state_public_spend_edited\", df_state_public_spend_edited.shape, df_state_public_spend_edited['State Name'].nunique())"
   ]
  },
  {
   "cell_type": "code",
   "execution_count": 22,
   "metadata": {},
   "outputs": [
    {
     "data": {
      "text/html": [
       "<div>\n",
       "<style scoped>\n",
       "    .dataframe tbody tr th:only-of-type {\n",
       "        vertical-align: middle;\n",
       "    }\n",
       "\n",
       "    .dataframe tbody tr th {\n",
       "        vertical-align: top;\n",
       "    }\n",
       "\n",
       "    .dataframe thead th {\n",
       "        text-align: right;\n",
       "    }\n",
       "</style>\n",
       "<table border=\"1\" class=\"dataframe\">\n",
       "  <thead>\n",
       "    <tr style=\"text-align: right;\">\n",
       "      <th></th>\n",
       "      <th>State Name</th>\n",
       "      <th>spend_2017</th>\n",
       "      <th>spend_2018</th>\n",
       "      <th>spend_2019</th>\n",
       "      <th>spend_2020</th>\n",
       "      <th>spend_2021</th>\n",
       "    </tr>\n",
       "  </thead>\n",
       "  <tbody>\n",
       "    <tr>\n",
       "      <th>0</th>\n",
       "      <td>Alabama</td>\n",
       "      <td>56.43214</td>\n",
       "      <td>57.23</td>\n",
       "      <td>54.25</td>\n",
       "      <td>46.81</td>\n",
       "      <td>52.35</td>\n",
       "    </tr>\n",
       "    <tr>\n",
       "      <th>1</th>\n",
       "      <td>Alaska</td>\n",
       "      <td>114.43666</td>\n",
       "      <td>96.52</td>\n",
       "      <td>98.25</td>\n",
       "      <td>215.15</td>\n",
       "      <td>90.17</td>\n",
       "    </tr>\n",
       "    <tr>\n",
       "      <th>2</th>\n",
       "      <td>Arizona</td>\n",
       "      <td>8.83289</td>\n",
       "      <td>9.66</td>\n",
       "      <td>15.25</td>\n",
       "      <td>24.34</td>\n",
       "      <td>15.32</td>\n",
       "    </tr>\n",
       "    <tr>\n",
       "      <th>3</th>\n",
       "      <td>Arkansas</td>\n",
       "      <td>52.29329</td>\n",
       "      <td>50.57</td>\n",
       "      <td>48.23</td>\n",
       "      <td>45.90</td>\n",
       "      <td>42.94</td>\n",
       "    </tr>\n",
       "    <tr>\n",
       "      <th>4</th>\n",
       "      <td>California</td>\n",
       "      <td>61.69589</td>\n",
       "      <td>65.71</td>\n",
       "      <td>71.89</td>\n",
       "      <td>69.87</td>\n",
       "      <td>78.47</td>\n",
       "    </tr>\n",
       "  </tbody>\n",
       "</table>\n",
       "</div>"
      ],
      "text/plain": [
       "   State Name  spend_2017  spend_2018  spend_2019  spend_2020  spend_2021\n",
       "0     Alabama    56.43214       57.23       54.25       46.81       52.35\n",
       "1      Alaska   114.43666       96.52       98.25      215.15       90.17\n",
       "2     Arizona     8.83289        9.66       15.25       24.34       15.32\n",
       "3    Arkansas    52.29329       50.57       48.23       45.90       42.94\n",
       "4  California    61.69589       65.71       71.89       69.87       78.47"
      ]
     },
     "execution_count": 22,
     "metadata": {},
     "output_type": "execute_result"
    }
   ],
   "source": [
    "#Turns out state_public_spend_edited will need to be pivoted as it has multiple values of year for each state\n",
    "df_state_public_spend_essential_wide=df_state_public_spend_edited.pivot(\n",
    "    index=['State Name'], columns='TimeFrame', values='Data').reset_index().rename_axis(\n",
    "        None, axis=1).add_prefix('spend_').rename(columns={'spend_State Name':'State Name'})\n",
    "df_state_public_spend_essential_wide.head()"
   ]
  },
  {
   "cell_type": "code",
   "execution_count": 23,
   "metadata": {},
   "outputs": [
    {
     "data": {
      "text/plain": [
       "((32409, 3), 32409)"
      ]
     },
     "execution_count": 23,
     "metadata": {},
     "output_type": "execute_result"
    }
   ],
   "source": [
    "#Geographic information (Lat-Long)\n",
    "geocoords=df_health_outcomes_edited[['ZIP', 'longitude', 'latitude']].drop_duplicates()\n",
    "geocoords.shape, geocoords.ZIP.nunique()"
   ]
  },
  {
   "cell_type": "markdown",
   "metadata": {},
   "source": [
    "##### Creating combined dataset"
   ]
  },
  {
   "cell_type": "code",
   "execution_count": 24,
   "metadata": {},
   "outputs": [
    {
     "data": {
      "text/plain": [
       "(39503, 80)"
      ]
     },
     "execution_count": 24,
     "metadata": {},
     "output_type": "execute_result"
    }
   ],
   "source": [
    "#Combined_dataset_zip contain ZIP level features. Combined_dataset_state contains State level features. Combined_dataset contains all features\n",
    "combined_dataset_zip=pd.merge(pd.merge(pd.merge(df_income_1901_essential, df_health_outcomes_essential_wide, on=\"ZIP\", how=\"outer\"), \n",
    "         df_sdoh_essential_wide, on=\"ZIP\", how=\"outer\"), df_acs_edited, on=\"ZIP\", how=\"outer\")\n",
    "combined_dataset_state=pd.merge(pd.merge(df_state_politics_edited, df_state_public_spend_essential_wide, on=\"State Name\", how=\"outer\"),\n",
    "         df_zip2st_edited, on=\"State\", how=\"outer\")\n",
    "combined_dataset=pd.merge(pd.merge(combined_dataset_zip, combined_dataset_state, on=\"ZIP\", how=\"outer\"), geocoords, on=\"ZIP\", how=\"left\")\n",
    "combined_dataset.shape"
   ]
  },
  {
   "cell_type": "code",
   "execution_count": 26,
   "metadata": {},
   "outputs": [
    {
     "data": {
      "text/html": [
       "<div>\n",
       "<style scoped>\n",
       "    .dataframe tbody tr th:only-of-type {\n",
       "        vertical-align: middle;\n",
       "    }\n",
       "\n",
       "    .dataframe tbody tr th {\n",
       "        vertical-align: top;\n",
       "    }\n",
       "\n",
       "    .dataframe thead th {\n",
       "        text-align: right;\n",
       "    }\n",
       "</style>\n",
       "<table border=\"1\" class=\"dataframe\">\n",
       "  <thead>\n",
       "    <tr style=\"text-align: right;\">\n",
       "      <th></th>\n",
       "      <th>ZIP</th>\n",
       "      <th>Estimate Households Total</th>\n",
       "      <th>Percent Households lt 10k</th>\n",
       "      <th>Estimate Households Median income (dollars)</th>\n",
       "      <th>Estimate Families Total</th>\n",
       "      <th>Estimate Families Median income (dollars)</th>\n",
       "      <th>Estimate Nonfamily households Total</th>\n",
       "      <th>Estimate Nonfamily households Median income (dollars)</th>\n",
       "      <th>Percent Households that are Families</th>\n",
       "      <th>TotalPopulation_x</th>\n",
       "      <th>...</th>\n",
       "      <th>State Name</th>\n",
       "      <th>State</th>\n",
       "      <th>Political Affiliation (2008-2020 presidential elections)</th>\n",
       "      <th>spend_2017</th>\n",
       "      <th>spend_2018</th>\n",
       "      <th>spend_2019</th>\n",
       "      <th>spend_2020</th>\n",
       "      <th>spend_2021</th>\n",
       "      <th>longitude</th>\n",
       "      <th>latitude</th>\n",
       "    </tr>\n",
       "  </thead>\n",
       "  <tbody>\n",
       "    <tr>\n",
       "      <th>16592</th>\n",
       "      <td>49066</td>\n",
       "      <td>234.0</td>\n",
       "      <td>6.0</td>\n",
       "      <td>60500.0</td>\n",
       "      <td>164.0</td>\n",
       "      <td>65500.0</td>\n",
       "      <td>70.0</td>\n",
       "      <td>37813.0</td>\n",
       "      <td>0.700855</td>\n",
       "      <td>722.0</td>\n",
       "      <td>...</td>\n",
       "      <td>Michigan</td>\n",
       "      <td>MI</td>\n",
       "      <td>Light Blue</td>\n",
       "      <td>12.91416</td>\n",
       "      <td>15.18</td>\n",
       "      <td>15.17</td>\n",
       "      <td>17.30</td>\n",
       "      <td>19.78</td>\n",
       "      <td>-85.349200</td>\n",
       "      <td>42.037078</td>\n",
       "    </tr>\n",
       "    <tr>\n",
       "      <th>18776</th>\n",
       "      <td>54948</td>\n",
       "      <td>83.0</td>\n",
       "      <td>4.8</td>\n",
       "      <td>53438.0</td>\n",
       "      <td>55.0</td>\n",
       "      <td>74583.0</td>\n",
       "      <td>28.0</td>\n",
       "      <td>35000.0</td>\n",
       "      <td>0.662651</td>\n",
       "      <td>320.0</td>\n",
       "      <td>...</td>\n",
       "      <td>Wisconsin</td>\n",
       "      <td>WI</td>\n",
       "      <td>Light Blue</td>\n",
       "      <td>14.53865</td>\n",
       "      <td>17.43</td>\n",
       "      <td>17.38</td>\n",
       "      <td>17.67</td>\n",
       "      <td>17.47</td>\n",
       "      <td>-88.864066</td>\n",
       "      <td>44.782179</td>\n",
       "    </tr>\n",
       "    <tr>\n",
       "      <th>1274</th>\n",
       "      <td>04650</td>\n",
       "      <td>157.0</td>\n",
       "      <td>3.2</td>\n",
       "      <td>108661.0</td>\n",
       "      <td>63.0</td>\n",
       "      <td>184250.0</td>\n",
       "      <td>94.0</td>\n",
       "      <td>21548.0</td>\n",
       "      <td>0.401274</td>\n",
       "      <td>235.0</td>\n",
       "      <td>...</td>\n",
       "      <td>Maine</td>\n",
       "      <td>ME</td>\n",
       "      <td>Deep Blue</td>\n",
       "      <td>21.05384</td>\n",
       "      <td>17.69</td>\n",
       "      <td>27.37</td>\n",
       "      <td>33.82</td>\n",
       "      <td>44.34</td>\n",
       "      <td>-68.709982</td>\n",
       "      <td>44.285148</td>\n",
       "    </tr>\n",
       "    <tr>\n",
       "      <th>5221</th>\n",
       "      <td>16830</td>\n",
       "      <td>5774.0</td>\n",
       "      <td>4.8</td>\n",
       "      <td>52853.0</td>\n",
       "      <td>3472.0</td>\n",
       "      <td>66833.0</td>\n",
       "      <td>2302.0</td>\n",
       "      <td>33250.0</td>\n",
       "      <td>0.601316</td>\n",
       "      <td>13695.0</td>\n",
       "      <td>...</td>\n",
       "      <td>Pennsylvania</td>\n",
       "      <td>PA</td>\n",
       "      <td>Light Blue</td>\n",
       "      <td>12.63415</td>\n",
       "      <td>14.50</td>\n",
       "      <td>15.06</td>\n",
       "      <td>14.99</td>\n",
       "      <td>15.75</td>\n",
       "      <td>-78.436170</td>\n",
       "      <td>41.084200</td>\n",
       "    </tr>\n",
       "    <tr>\n",
       "      <th>25659</th>\n",
       "      <td>72905</td>\n",
       "      <td>0.0</td>\n",
       "      <td>NaN</td>\n",
       "      <td>NaN</td>\n",
       "      <td>0.0</td>\n",
       "      <td>NaN</td>\n",
       "      <td>0.0</td>\n",
       "      <td>NaN</td>\n",
       "      <td>NaN</td>\n",
       "      <td>NaN</td>\n",
       "      <td>...</td>\n",
       "      <td>Arkansas</td>\n",
       "      <td>AR</td>\n",
       "      <td>Deep Red</td>\n",
       "      <td>52.29329</td>\n",
       "      <td>50.57</td>\n",
       "      <td>48.23</td>\n",
       "      <td>45.90</td>\n",
       "      <td>42.94</td>\n",
       "      <td>NaN</td>\n",
       "      <td>NaN</td>\n",
       "    </tr>\n",
       "  </tbody>\n",
       "</table>\n",
       "<p>5 rows × 80 columns</p>\n",
       "</div>"
      ],
      "text/plain": [
       "         ZIP  Estimate Households Total  Percent Households lt 10k  \\\n",
       "16592  49066                      234.0                        6.0   \n",
       "18776  54948                       83.0                        4.8   \n",
       "1274   04650                      157.0                        3.2   \n",
       "5221   16830                     5774.0                        4.8   \n",
       "25659  72905                        0.0                        NaN   \n",
       "\n",
       "       Estimate Households Median income (dollars)  Estimate Families Total  \\\n",
       "16592                                      60500.0                    164.0   \n",
       "18776                                      53438.0                     55.0   \n",
       "1274                                      108661.0                     63.0   \n",
       "5221                                       52853.0                   3472.0   \n",
       "25659                                          NaN                      0.0   \n",
       "\n",
       "       Estimate Families Median income (dollars)  \\\n",
       "16592                                    65500.0   \n",
       "18776                                    74583.0   \n",
       "1274                                    184250.0   \n",
       "5221                                     66833.0   \n",
       "25659                                        NaN   \n",
       "\n",
       "       Estimate Nonfamily households Total  \\\n",
       "16592                                 70.0   \n",
       "18776                                 28.0   \n",
       "1274                                  94.0   \n",
       "5221                                2302.0   \n",
       "25659                                  0.0   \n",
       "\n",
       "       Estimate Nonfamily households Median income (dollars)  \\\n",
       "16592                                            37813.0       \n",
       "18776                                            35000.0       \n",
       "1274                                             21548.0       \n",
       "5221                                             33250.0       \n",
       "25659                                                NaN       \n",
       "\n",
       "       Percent Households that are Families  TotalPopulation_x  ...  \\\n",
       "16592                              0.700855              722.0  ...   \n",
       "18776                              0.662651              320.0  ...   \n",
       "1274                               0.401274              235.0  ...   \n",
       "5221                               0.601316            13695.0  ...   \n",
       "25659                                   NaN                NaN  ...   \n",
       "\n",
       "         State Name  State  \\\n",
       "16592      Michigan     MI   \n",
       "18776     Wisconsin     WI   \n",
       "1274          Maine     ME   \n",
       "5221   Pennsylvania     PA   \n",
       "25659      Arkansas     AR   \n",
       "\n",
       "       Political Affiliation (2008-2020 presidential elections)  spend_2017  \\\n",
       "16592                                         Light Blue           12.91416   \n",
       "18776                                         Light Blue           14.53865   \n",
       "1274                                           Deep Blue           21.05384   \n",
       "5221                                          Light Blue           12.63415   \n",
       "25659                                           Deep Red           52.29329   \n",
       "\n",
       "       spend_2018  spend_2019  spend_2020  spend_2021  longitude   latitude  \n",
       "16592       15.18       15.17       17.30       19.78 -85.349200  42.037078  \n",
       "18776       17.43       17.38       17.67       17.47 -88.864066  44.782179  \n",
       "1274        17.69       27.37       33.82       44.34 -68.709982  44.285148  \n",
       "5221        14.50       15.06       14.99       15.75 -78.436170  41.084200  \n",
       "25659       50.57       48.23       45.90       42.94        NaN        NaN  \n",
       "\n",
       "[5 rows x 80 columns]"
      ]
     },
     "execution_count": 26,
     "metadata": {},
     "output_type": "execute_result"
    }
   ],
   "source": [
    "combined_dataset.sample(5)"
   ]
  },
  {
   "cell_type": "code",
   "execution_count": 39,
   "metadata": {},
   "outputs": [
    {
     "data": {
      "text/plain": [
       "7094"
      ]
     },
     "execution_count": 39,
     "metadata": {},
     "output_type": "execute_result"
    }
   ],
   "source": [
    "combined_dataset['longitude'].isnull().sum()"
   ]
  },
  {
   "cell_type": "code",
   "execution_count": 1,
   "metadata": {},
   "outputs": [
    {
     "ename": "NameError",
     "evalue": "name 'combined_dataset' is not defined",
     "output_type": "error",
     "traceback": [
      "\u001b[1;31m---------------------------------------------------------------------------\u001b[0m",
      "\u001b[1;31mNameError\u001b[0m                                 Traceback (most recent call last)",
      "Cell \u001b[1;32mIn[1], line 2\u001b[0m\n\u001b[0;32m      1\u001b[0m \u001b[38;5;66;03m#Saving combined dataset\u001b[39;00m\n\u001b[1;32m----> 2\u001b[0m combined_dataset\u001b[38;5;241m.\u001b[39mto_csv(output_path\u001b[38;5;241m+\u001b[39m\u001b[38;5;124m\"\u001b[39m\u001b[38;5;130;01m\\\\\u001b[39;00m\u001b[38;5;124mcombined_dataset_anuvrat.csv\u001b[39m\u001b[38;5;124m\"\u001b[39m)\n",
      "\u001b[1;31mNameError\u001b[0m: name 'combined_dataset' is not defined"
     ]
    }
   ],
   "source": [
    "#Saving combined dataset\n",
    "combined_dataset.to_pickle(output_path+\"\\\\combined_dataset_anuvrat.pkl\")\n",
    "combined_dataset.to_csv(output_path+\"\\\\combined_dataset_anuvrat.csv\")"
   ]
  },
  {
   "cell_type": "code",
   "execution_count": null,
   "metadata": {},
   "outputs": [],
   "source": []
  }
 ],
 "metadata": {
  "kernelspec": {
   "display_name": "umich_ds",
   "language": "python",
   "name": "python3"
  },
  "language_info": {
   "codemirror_mode": {
    "name": "ipython",
    "version": 3
   },
   "file_extension": ".py",
   "mimetype": "text/x-python",
   "name": "python",
   "nbconvert_exporter": "python",
   "pygments_lexer": "ipython3",
   "version": "3.11.7"
  }
 },
 "nbformat": 4,
 "nbformat_minor": 2
}
