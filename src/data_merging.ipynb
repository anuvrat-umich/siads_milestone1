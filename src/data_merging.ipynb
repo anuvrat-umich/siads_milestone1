{
 "cells": [
  {
   "cell_type": "markdown",
   "metadata": {},
   "source": [
    "### Data Merge"
   ]
  },
  {
   "cell_type": "markdown",
   "metadata": {},
   "source": [
    "##### Declarations"
   ]
  },
  {
   "cell_type": "code",
   "execution_count": 1,
   "metadata": {},
   "outputs": [],
   "source": [
    "#Defining libraries\n",
    "import pandas as pd\n",
    "import matplotlib.pyplot as plt\n",
    "import numpy as np"
   ]
  },
  {
   "cell_type": "code",
   "execution_count": 2,
   "metadata": {},
   "outputs": [],
   "source": [
    "#Importing helper functions\n",
    "%run \"helper_functions.ipynb\""
   ]
  },
  {
   "cell_type": "code",
   "execution_count": 94,
   "metadata": {},
   "outputs": [],
   "source": [
    "#Setting pandas option to disable scientific notation\n",
    "pd.set_option('display.max_rows', 10000)"
   ]
  },
  {
   "cell_type": "code",
   "execution_count": 3,
   "metadata": {},
   "outputs": [],
   "source": [
    "#Input and output paths for all pickle files. To be used to load and save these files\n",
    "#Output\n",
    "input_path=\"C:\\\\Users\\\\Anuvrat\\\\OneDrive\\\\Documents\\\\milestone1\\\\data\\\\inputs\"\n",
    "output_path=\"C:\\\\Users\\\\Anuvrat\\\\OneDrive\\\\Documents\\\\milestone1\\\\data\\\\inputs\""
   ]
  },
  {
   "cell_type": "code",
   "execution_count": 108,
   "metadata": {},
   "outputs": [],
   "source": [
    "#Loading input pickle files\n",
    "df_income_1901_edited=pd.read_pickle(input_path+\"\\\\df_income_1901_edited.pkl\")\n",
    "df_health_outcomes_edited=pd.read_pickle(input_path+\"\\\\df_health_outcomes_edited.pkl\")\n",
    "df_sdoh_edited=pd.read_pickle(input_path+\"\\\\df_sdoh_edited.pkl\")\n",
    "df_state_politics_edited=pd.read_pickle(input_path+\"\\\\df_state_politics_edited.pkl\")\n",
    "df_state_public_spend_edited=pd.read_pickle(input_path+\"\\\\df_state_public_spend_edited.pkl\")\n",
    "df_acs_edited=pd.read_pickle(input_path+\"\\\\df_acs_edited.pkl\")\n",
    "df_zip2st_edited=pd.read_pickle(input_path+\"\\\\df_zip2st_edited.pkl\")"
   ]
  },
  {
   "cell_type": "code",
   "execution_count": 36,
   "metadata": {},
   "outputs": [
    {
     "name": "stdout",
     "output_type": "stream",
     "text": [
      "(33774, 15)\n",
      "(1169992, 10)\n",
      "(291024, 5)\n",
      "(57, 3)\n",
      "(515, 6)\n",
      "(33120, 14)\n"
     ]
    }
   ],
   "source": [
    "#Printing shapes to check which file needs most attention for data compression\n",
    "for df in [df_income_1901_edited, df_health_outcomes_edited, df_sdoh_edited, df_state_politics_edited, df_state_public_spend_edited, df_acs_edited]:\n",
    "    print(df.shape)"
   ]
  },
  {
   "cell_type": "markdown",
   "metadata": {},
   "source": [
    "##### ZIP level data"
   ]
  },
  {
   "cell_type": "code",
   "execution_count": 71,
   "metadata": {},
   "outputs": [
    {
     "data": {
      "text/plain": [
       "(33774, 32409, 32336, 33120)"
      ]
     },
     "execution_count": 71,
     "metadata": {},
     "output_type": "execute_result"
    }
   ],
   "source": [
    "df_income_1901_edited.ZIP.nunique(), df_health_outcomes_edited.ZIP.nunique(), df_sdoh_edited.ZIP.nunique(), df_acs_edited.ZIP.nunique()"
   ]
  },
  {
   "cell_type": "code",
   "execution_count": 79,
   "metadata": {},
   "outputs": [
    {
     "data": {
      "text/plain": [
       "(33774, 9)"
      ]
     },
     "execution_count": 79,
     "metadata": {},
     "output_type": "execute_result"
    }
   ],
   "source": [
    "df_income_1901_essential=df_income_1901_edited[['ZIP', 'Estimate Households Total', 'Percent Households lt 10k', \n",
    "                                                'Estimate Households Median income (dollars)', 'Estimate Families Total',\n",
    "                                                'Estimate Families Median income (dollars)', 'Estimate Nonfamily households Total',\n",
    "                                                'Estimate Nonfamily households Median income (dollars)', 'Percent Households that are Families']]\n",
    "df_income_1901_essential.shape"
   ]
  },
  {
   "cell_type": "code",
   "execution_count": 68,
   "metadata": {},
   "outputs": [
    {
     "data": {
      "text/plain": [
       "(32409, 39)"
      ]
     },
     "execution_count": 68,
     "metadata": {},
     "output_type": "execute_result"
    }
   ],
   "source": [
    "df_health_outcomes_essential=df_health_outcomes_edited[['ZIP', 'TotalPopulation', 'Short_Question_Text', 'Data_Value']]\n",
    "df_health_outcomes_essential_wide=df_health_outcomes_essential.pivot(index=['ZIP', 'TotalPopulation'], columns='Short_Question_Text', \n",
    "                                                                     values='Data_Value').reset_index().rename_axis(None, axis=1)\n",
    "#display(df_health_outcomes_essential_wide.head())\n",
    "df_health_outcomes_essential_wide.shape"
   ]
  },
  {
   "cell_type": "code",
   "execution_count": 77,
   "metadata": {},
   "outputs": [
    {
     "data": {
      "text/plain": [
       "(32336, 11)"
      ]
     },
     "execution_count": 77,
     "metadata": {},
     "output_type": "execute_result"
    }
   ],
   "source": [
    "df_sdoh_essential_wide=df_sdoh_edited.pivot(index=['ZIP', 'TotalPopulation'], columns='Measure', \n",
    "                                                                     values='Data_Value').reset_index().rename_axis(None, axis=1)\n",
    "#display(df_sdoh_essential_wide.head())\n",
    "df_sdoh_essential_wide.shape"
   ]
  },
  {
   "cell_type": "markdown",
   "metadata": {},
   "source": [
    "##### State level data"
   ]
  },
  {
   "cell_type": "code",
   "execution_count": 126,
   "metadata": {},
   "outputs": [
    {
     "name": "stdout",
     "output_type": "stream",
     "text": [
      "df_state_politics_edited (57, 3) 57\n",
      "df_zip2st_edited (39368, 2) 39368\n",
      "df_state_public_spend_edited (255, 3) 51\n"
     ]
    }
   ],
   "source": [
    "#Checking if any of the state level data needs to be pivoted\n",
    "print(\"df_state_politics_edited\", df_state_politics_edited.shape, df_state_politics_edited.State.nunique())\n",
    "print(\"df_zip2st_edited\", df_zip2st_edited.shape, df_zip2st_edited.ZIP.nunique())\n",
    "print(\"df_state_public_spend_edited\", df_state_public_spend_edited.shape, df_state_public_spend_edited['State Name'].nunique())"
   ]
  },
  {
   "cell_type": "code",
   "execution_count": 118,
   "metadata": {},
   "outputs": [
    {
     "data": {
      "text/html": [
       "<div>\n",
       "<style scoped>\n",
       "    .dataframe tbody tr th:only-of-type {\n",
       "        vertical-align: middle;\n",
       "    }\n",
       "\n",
       "    .dataframe tbody tr th {\n",
       "        vertical-align: top;\n",
       "    }\n",
       "\n",
       "    .dataframe thead th {\n",
       "        text-align: right;\n",
       "    }\n",
       "</style>\n",
       "<table border=\"1\" class=\"dataframe\">\n",
       "  <thead>\n",
       "    <tr style=\"text-align: right;\">\n",
       "      <th></th>\n",
       "      <th>State Name</th>\n",
       "      <th>spend_2017</th>\n",
       "      <th>spend_2018</th>\n",
       "      <th>spend_2019</th>\n",
       "      <th>spend_2020</th>\n",
       "      <th>spend_2021</th>\n",
       "    </tr>\n",
       "  </thead>\n",
       "  <tbody>\n",
       "    <tr>\n",
       "      <th>0</th>\n",
       "      <td>Alabama</td>\n",
       "      <td>56.43214</td>\n",
       "      <td>57.23</td>\n",
       "      <td>54.25</td>\n",
       "      <td>46.81</td>\n",
       "      <td>52.35</td>\n",
       "    </tr>\n",
       "    <tr>\n",
       "      <th>1</th>\n",
       "      <td>Alaska</td>\n",
       "      <td>114.43666</td>\n",
       "      <td>96.52</td>\n",
       "      <td>98.25</td>\n",
       "      <td>215.15</td>\n",
       "      <td>90.17</td>\n",
       "    </tr>\n",
       "    <tr>\n",
       "      <th>2</th>\n",
       "      <td>Arizona</td>\n",
       "      <td>8.83289</td>\n",
       "      <td>9.66</td>\n",
       "      <td>15.25</td>\n",
       "      <td>24.34</td>\n",
       "      <td>15.32</td>\n",
       "    </tr>\n",
       "    <tr>\n",
       "      <th>3</th>\n",
       "      <td>Arkansas</td>\n",
       "      <td>52.29329</td>\n",
       "      <td>50.57</td>\n",
       "      <td>48.23</td>\n",
       "      <td>45.90</td>\n",
       "      <td>42.94</td>\n",
       "    </tr>\n",
       "    <tr>\n",
       "      <th>4</th>\n",
       "      <td>California</td>\n",
       "      <td>61.69589</td>\n",
       "      <td>65.71</td>\n",
       "      <td>71.89</td>\n",
       "      <td>69.87</td>\n",
       "      <td>78.47</td>\n",
       "    </tr>\n",
       "  </tbody>\n",
       "</table>\n",
       "</div>"
      ],
      "text/plain": [
       "   State Name  spend_2017  spend_2018  spend_2019  spend_2020  spend_2021\n",
       "0     Alabama    56.43214       57.23       54.25       46.81       52.35\n",
       "1      Alaska   114.43666       96.52       98.25      215.15       90.17\n",
       "2     Arizona     8.83289        9.66       15.25       24.34       15.32\n",
       "3    Arkansas    52.29329       50.57       48.23       45.90       42.94\n",
       "4  California    61.69589       65.71       71.89       69.87       78.47"
      ]
     },
     "execution_count": 118,
     "metadata": {},
     "output_type": "execute_result"
    }
   ],
   "source": [
    "#Turns out state_public_spend_edited will need to be pivoted as it has multiple values of year for each state\n",
    "df_state_public_spend_essential_wide=df_state_public_spend_edited.pivot(\n",
    "    index=['State Name'], columns='TimeFrame', values='Data').reset_index().rename_axis(\n",
    "        None, axis=1).add_prefix('spend_').rename(columns={'spend_State Name':'State Name'})\n",
    "df_state_public_spend_essential_wide.head()"
   ]
  },
  {
   "cell_type": "markdown",
   "metadata": {},
   "source": [
    "##### Creating combined dataset"
   ]
  },
  {
   "cell_type": "code",
   "execution_count": 127,
   "metadata": {},
   "outputs": [
    {
     "data": {
      "text/plain": [
       "(39503, 78)"
      ]
     },
     "execution_count": 127,
     "metadata": {},
     "output_type": "execute_result"
    }
   ],
   "source": [
    "#Combined_dataset_zip contain ZIP level features. Combined_dataset_state contains State level features. Combined_dataset contains all features\n",
    "combined_dataset_zip=pd.merge(pd.merge(pd.merge(df_income_1901_essential, df_health_outcomes_essential_wide, on=\"ZIP\", how=\"outer\"), \n",
    "         df_sdoh_essential_wide, on=\"ZIP\", how=\"outer\"), df_acs_edited, on=\"ZIP\", how=\"outer\")\n",
    "combined_dataset_state=pd.merge(pd.merge(df_state_politics_edited, df_state_public_spend_essential_wide, on=\"State Name\", how=\"outer\"),\n",
    "         df_zip2st_edited, on=\"State\", how=\"outer\")\n",
    "combined_dataset=pd.merge(combined_dataset_zip, combined_dataset_state, on=\"ZIP\", how=\"outer\")\n",
    "combined_dataset.shape"
   ]
  },
  {
   "cell_type": "code",
   "execution_count": 128,
   "metadata": {},
   "outputs": [],
   "source": [
    "combined_dataset.to_pickle(output_path+\"\\\\combined_dataset_anuvrat.pkl\")"
   ]
  },
  {
   "cell_type": "code",
   "execution_count": 131,
   "metadata": {},
   "outputs": [
    {
     "data": {
      "text/html": [
       "<div>\n",
       "<style scoped>\n",
       "    .dataframe tbody tr th:only-of-type {\n",
       "        vertical-align: middle;\n",
       "    }\n",
       "\n",
       "    .dataframe tbody tr th {\n",
       "        vertical-align: top;\n",
       "    }\n",
       "\n",
       "    .dataframe thead th {\n",
       "        text-align: right;\n",
       "    }\n",
       "</style>\n",
       "<table border=\"1\" class=\"dataframe\">\n",
       "  <thead>\n",
       "    <tr style=\"text-align: right;\">\n",
       "      <th></th>\n",
       "      <th>ZIP</th>\n",
       "      <th>Estimate Households Total</th>\n",
       "      <th>Percent Households lt 10k</th>\n",
       "      <th>Estimate Households Median income (dollars)</th>\n",
       "      <th>Estimate Families Total</th>\n",
       "      <th>Estimate Families Median income (dollars)</th>\n",
       "      <th>Estimate Nonfamily households Total</th>\n",
       "      <th>Estimate Nonfamily households Median income (dollars)</th>\n",
       "      <th>Percent Households that are Families</th>\n",
       "      <th>TotalPopulation_x</th>\n",
       "      <th>...</th>\n",
       "      <th>Percent Margin of Error!!HISPANIC OR LATINO AND RACE!!Total population!!Hispanic or Latino (of any race)</th>\n",
       "      <th>Estimate!!Total housing units</th>\n",
       "      <th>State Name</th>\n",
       "      <th>State</th>\n",
       "      <th>Political Affiliation (2008-2020 presidential elections)</th>\n",
       "      <th>spend_2017</th>\n",
       "      <th>spend_2018</th>\n",
       "      <th>spend_2019</th>\n",
       "      <th>spend_2020</th>\n",
       "      <th>spend_2021</th>\n",
       "    </tr>\n",
       "  </thead>\n",
       "  <tbody>\n",
       "    <tr>\n",
       "      <th>8138</th>\n",
       "      <td>25846</td>\n",
       "      <td>42.0</td>\n",
       "      <td>0.0</td>\n",
       "      <td>NaN</td>\n",
       "      <td>30.0</td>\n",
       "      <td>NaN</td>\n",
       "      <td>12.0</td>\n",
       "      <td>NaN</td>\n",
       "      <td>0.714286</td>\n",
       "      <td>363.0</td>\n",
       "      <td>...</td>\n",
       "      <td>13.5</td>\n",
       "      <td>149.0</td>\n",
       "      <td>West Virginia</td>\n",
       "      <td>WV</td>\n",
       "      <td>Deep Red</td>\n",
       "      <td>57.28298</td>\n",
       "      <td>59.61</td>\n",
       "      <td>58.74</td>\n",
       "      <td>62.83</td>\n",
       "      <td>NaN</td>\n",
       "    </tr>\n",
       "    <tr>\n",
       "      <th>10131</th>\n",
       "      <td>30728</td>\n",
       "      <td>7227.0</td>\n",
       "      <td>6.1</td>\n",
       "      <td>46702.0</td>\n",
       "      <td>4739.0</td>\n",
       "      <td>56608.0</td>\n",
       "      <td>2488.0</td>\n",
       "      <td>22759.0</td>\n",
       "      <td>0.655735</td>\n",
       "      <td>19612.0</td>\n",
       "      <td>...</td>\n",
       "      <td>1.2</td>\n",
       "      <td>8834.0</td>\n",
       "      <td>Georgia</td>\n",
       "      <td>GA</td>\n",
       "      <td>Light Red</td>\n",
       "      <td>21.27243</td>\n",
       "      <td>22.42</td>\n",
       "      <td>27.35</td>\n",
       "      <td>27.78</td>\n",
       "      <td>30.82</td>\n",
       "    </tr>\n",
       "    <tr>\n",
       "      <th>22770</th>\n",
       "      <td>64622</td>\n",
       "      <td>223.0</td>\n",
       "      <td>1.8</td>\n",
       "      <td>76349.0</td>\n",
       "      <td>158.0</td>\n",
       "      <td>83690.0</td>\n",
       "      <td>65.0</td>\n",
       "      <td>46488.0</td>\n",
       "      <td>0.708520</td>\n",
       "      <td>600.0</td>\n",
       "      <td>...</td>\n",
       "      <td>5.4</td>\n",
       "      <td>232.0</td>\n",
       "      <td>Missouri</td>\n",
       "      <td>MO</td>\n",
       "      <td>Deep Red</td>\n",
       "      <td>5.74266</td>\n",
       "      <td>7.07</td>\n",
       "      <td>7.13</td>\n",
       "      <td>7.06</td>\n",
       "      <td>6.54</td>\n",
       "    </tr>\n",
       "    <tr>\n",
       "      <th>7024</th>\n",
       "      <td>22713</td>\n",
       "      <td>694.0</td>\n",
       "      <td>2.6</td>\n",
       "      <td>99861.0</td>\n",
       "      <td>512.0</td>\n",
       "      <td>123875.0</td>\n",
       "      <td>182.0</td>\n",
       "      <td>NaN</td>\n",
       "      <td>0.737752</td>\n",
       "      <td>1406.0</td>\n",
       "      <td>...</td>\n",
       "      <td>0.3</td>\n",
       "      <td>780.0</td>\n",
       "      <td>Virginia</td>\n",
       "      <td>VA</td>\n",
       "      <td>Deep Blue</td>\n",
       "      <td>38.12053</td>\n",
       "      <td>38.08</td>\n",
       "      <td>39.60</td>\n",
       "      <td>36.26</td>\n",
       "      <td>41.98</td>\n",
       "    </tr>\n",
       "    <tr>\n",
       "      <th>2958</th>\n",
       "      <td>11560</td>\n",
       "      <td>2436.0</td>\n",
       "      <td>4.1</td>\n",
       "      <td>162143.0</td>\n",
       "      <td>1994.0</td>\n",
       "      <td>216389.0</td>\n",
       "      <td>442.0</td>\n",
       "      <td>63077.0</td>\n",
       "      <td>0.818555</td>\n",
       "      <td>6464.0</td>\n",
       "      <td>...</td>\n",
       "      <td>4.6</td>\n",
       "      <td>2551.0</td>\n",
       "      <td>New York</td>\n",
       "      <td>NY</td>\n",
       "      <td>Deep Blue</td>\n",
       "      <td>86.81281</td>\n",
       "      <td>83.99</td>\n",
       "      <td>83.21</td>\n",
       "      <td>84.87</td>\n",
       "      <td>92.44</td>\n",
       "    </tr>\n",
       "  </tbody>\n",
       "</table>\n",
       "<p>5 rows × 78 columns</p>\n",
       "</div>"
      ],
      "text/plain": [
       "         ZIP  Estimate Households Total  Percent Households lt 10k  \\\n",
       "8138   25846                       42.0                        0.0   \n",
       "10131  30728                     7227.0                        6.1   \n",
       "22770  64622                      223.0                        1.8   \n",
       "7024   22713                      694.0                        2.6   \n",
       "2958   11560                     2436.0                        4.1   \n",
       "\n",
       "       Estimate Households Median income (dollars)  Estimate Families Total  \\\n",
       "8138                                           NaN                     30.0   \n",
       "10131                                      46702.0                   4739.0   \n",
       "22770                                      76349.0                    158.0   \n",
       "7024                                       99861.0                    512.0   \n",
       "2958                                      162143.0                   1994.0   \n",
       "\n",
       "       Estimate Families Median income (dollars)  \\\n",
       "8138                                         NaN   \n",
       "10131                                    56608.0   \n",
       "22770                                    83690.0   \n",
       "7024                                    123875.0   \n",
       "2958                                    216389.0   \n",
       "\n",
       "       Estimate Nonfamily households Total  \\\n",
       "8138                                  12.0   \n",
       "10131                               2488.0   \n",
       "22770                                 65.0   \n",
       "7024                                 182.0   \n",
       "2958                                 442.0   \n",
       "\n",
       "       Estimate Nonfamily households Median income (dollars)  \\\n",
       "8138                                                 NaN       \n",
       "10131                                            22759.0       \n",
       "22770                                            46488.0       \n",
       "7024                                                 NaN       \n",
       "2958                                             63077.0       \n",
       "\n",
       "       Percent Households that are Families  TotalPopulation_x  ...  \\\n",
       "8138                               0.714286              363.0  ...   \n",
       "10131                              0.655735            19612.0  ...   \n",
       "22770                              0.708520              600.0  ...   \n",
       "7024                               0.737752             1406.0  ...   \n",
       "2958                               0.818555             6464.0  ...   \n",
       "\n",
       "       Percent Margin of Error!!HISPANIC OR LATINO AND RACE!!Total population!!Hispanic or Latino (of any race)  \\\n",
       "8138                                                13.5                                                          \n",
       "10131                                                1.2                                                          \n",
       "22770                                                5.4                                                          \n",
       "7024                                                 0.3                                                          \n",
       "2958                                                 4.6                                                          \n",
       "\n",
       "       Estimate!!Total housing units     State Name  State  \\\n",
       "8138                           149.0  West Virginia     WV   \n",
       "10131                         8834.0        Georgia     GA   \n",
       "22770                          232.0       Missouri     MO   \n",
       "7024                           780.0       Virginia     VA   \n",
       "2958                          2551.0       New York     NY   \n",
       "\n",
       "       Political Affiliation (2008-2020 presidential elections)  spend_2017  \\\n",
       "8138                                            Deep Red           57.28298   \n",
       "10131                                          Light Red           21.27243   \n",
       "22770                                           Deep Red            5.74266   \n",
       "7024                                           Deep Blue           38.12053   \n",
       "2958                                           Deep Blue           86.81281   \n",
       "\n",
       "       spend_2018  spend_2019  spend_2020  spend_2021  \n",
       "8138        59.61       58.74       62.83         NaN  \n",
       "10131       22.42       27.35       27.78       30.82  \n",
       "22770        7.07        7.13        7.06        6.54  \n",
       "7024        38.08       39.60       36.26       41.98  \n",
       "2958        83.99       83.21       84.87       92.44  \n",
       "\n",
       "[5 rows x 78 columns]"
      ]
     },
     "execution_count": 131,
     "metadata": {},
     "output_type": "execute_result"
    }
   ],
   "source": [
    "combined_dataset.sample(5)"
   ]
  }
 ],
 "metadata": {
  "kernelspec": {
   "display_name": "umich_ds",
   "language": "python",
   "name": "python3"
  },
  "language_info": {
   "codemirror_mode": {
    "name": "ipython",
    "version": 3
   },
   "file_extension": ".py",
   "mimetype": "text/x-python",
   "name": "python",
   "nbconvert_exporter": "python",
   "pygments_lexer": "ipython3",
   "version": "3.11.7"
  }
 },
 "nbformat": 4,
 "nbformat_minor": 2
}
