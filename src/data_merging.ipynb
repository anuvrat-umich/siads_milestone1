{
 "cells": [
  {
   "cell_type": "markdown",
   "metadata": {},
   "source": [
    "### Data Merge"
   ]
  },
  {
   "cell_type": "markdown",
   "metadata": {},
   "source": [
    "##### Declarations"
   ]
  },
  {
   "cell_type": "code",
   "execution_count": 1,
   "metadata": {},
   "outputs": [],
   "source": [
    "#Defining libraries\n",
    "import pandas as pd\n",
    "import matplotlib.pyplot as plt\n",
    "import numpy as np"
   ]
  },
  {
   "cell_type": "code",
   "execution_count": 2,
   "metadata": {},
   "outputs": [],
   "source": [
    "#Importing helper functions\n",
    "%run \"helper_functions.ipynb\""
   ]
  },
  {
   "cell_type": "code",
   "execution_count": 3,
   "metadata": {},
   "outputs": [],
   "source": [
    "#Input and output paths for all pickle files. To be used to load and save these files\n",
    "#Output\n",
    "input_path=\"C:\\\\Users\\\\Anuvrat\\\\OneDrive\\\\Documents\\\\milestone1\\\\data\\\\inputs\"\n",
    "output_path=\"C:\\\\Users\\\\Anuvrat\\\\OneDrive\\\\Documents\\\\milestone1\\\\data\\\\inputs\""
   ]
  },
  {
   "cell_type": "code",
   "execution_count": 75,
   "metadata": {},
   "outputs": [],
   "source": [
    "#Loading input pickle files\n",
    "df_income_1901_edited=pd.read_pickle(input_path+\"\\\\df_income_1901_edited.pkl\")\n",
    "df_health_outcomes_edited=pd.read_pickle(input_path+\"\\\\df_health_outcomes_edited.pkl\")\n",
    "df_sdoh_edited=pd.read_pickle(input_path+\"\\\\df_sdoh_edited.pkl\")\n",
    "df_state_politics_edited=pd.read_pickle(input_path+\"\\\\df_state_politics_edited.pkl\")\n",
    "df_state_public_spend_edited=pd.read_pickle(input_path+\"\\\\df_state_public_spend_edited.pkl\")\n",
    "df_acs_edited=pd.read_pickle(input_path+\"\\\\df_acs_edited.pkl\")"
   ]
  },
  {
   "cell_type": "code",
   "execution_count": 36,
   "metadata": {},
   "outputs": [
    {
     "name": "stdout",
     "output_type": "stream",
     "text": [
      "(33774, 15)\n",
      "(1169992, 10)\n",
      "(291024, 5)\n",
      "(57, 3)\n",
      "(515, 6)\n",
      "(33120, 14)\n"
     ]
    }
   ],
   "source": [
    "#Printing shapes\n",
    "for df in [df_income_1901_edited, df_health_outcomes_edited, df_sdoh_edited, df_state_politics_edited, df_state_public_spend_edited, df_acs_edited]:\n",
    "    print(df.shape)"
   ]
  },
  {
   "cell_type": "code",
   "execution_count": 71,
   "metadata": {},
   "outputs": [
    {
     "data": {
      "text/plain": [
       "(33774, 32409, 32336, 33120)"
      ]
     },
     "execution_count": 71,
     "metadata": {},
     "output_type": "execute_result"
    }
   ],
   "source": [
    "df_income_1901_edited.ZIP.nunique(), df_health_outcomes_edited.ZIP.nunique(), df_sdoh_edited.ZIP.nunique(), df_acs_edited.ZIP.nunique()"
   ]
  },
  {
   "cell_type": "code",
   "execution_count": 79,
   "metadata": {},
   "outputs": [
    {
     "data": {
      "text/plain": [
       "(33774, 9)"
      ]
     },
     "execution_count": 79,
     "metadata": {},
     "output_type": "execute_result"
    }
   ],
   "source": [
    "df_income_1901_essential=df_income_1901_edited[['ZIP', 'Estimate Households Total', 'Percent Households lt 10k', \n",
    "                                                'Estimate Households Median income (dollars)', 'Estimate Families Total',\n",
    "                                                'Estimate Families Median income (dollars)', 'Estimate Nonfamily households Total',\n",
    "                                                'Estimate Nonfamily households Median income (dollars)', 'Percent Households that are Families']]\n",
    "df_income_1901_essential.shape"
   ]
  },
  {
   "cell_type": "code",
   "execution_count": 68,
   "metadata": {},
   "outputs": [
    {
     "data": {
      "text/plain": [
       "(32409, 39)"
      ]
     },
     "execution_count": 68,
     "metadata": {},
     "output_type": "execute_result"
    }
   ],
   "source": [
    "df_health_outcomes_essential=df_health_outcomes_edited[['ZIP', 'TotalPopulation', 'Short_Question_Text', 'Data_Value']]\n",
    "df_health_outcomes_essential_wide=df_health_outcomes_essential.pivot(index=['ZIP', 'TotalPopulation'], columns='Short_Question_Text', \n",
    "                                                                     values='Data_Value').reset_index().rename_axis(None, axis=1)\n",
    "#display(df_health_outcomes_essential_wide.head())\n",
    "df_health_outcomes_essential_wide.shape"
   ]
  },
  {
   "cell_type": "code",
   "execution_count": 77,
   "metadata": {},
   "outputs": [
    {
     "data": {
      "text/plain": [
       "(32336, 11)"
      ]
     },
     "execution_count": 77,
     "metadata": {},
     "output_type": "execute_result"
    }
   ],
   "source": [
    "df_sdoh_essential_wide=df_sdoh_edited.pivot(index=['ZIP', 'TotalPopulation'], columns='Measure', \n",
    "                                                                     values='Data_Value').reset_index().rename_axis(None, axis=1)\n",
    "#display(df_sdoh_essential_wide.head())\n",
    "df_sdoh_essential_wide.shape"
   ]
  },
  {
   "cell_type": "code",
   "execution_count": 78,
   "metadata": {},
   "outputs": [
    {
     "data": {
      "text/html": [
       "<div>\n",
       "<style scoped>\n",
       "    .dataframe tbody tr th:only-of-type {\n",
       "        vertical-align: middle;\n",
       "    }\n",
       "\n",
       "    .dataframe tbody tr th {\n",
       "        vertical-align: top;\n",
       "    }\n",
       "\n",
       "    .dataframe thead th {\n",
       "        text-align: right;\n",
       "    }\n",
       "</style>\n",
       "<table border=\"1\" class=\"dataframe\">\n",
       "  <thead>\n",
       "    <tr style=\"text-align: right;\">\n",
       "      <th></th>\n",
       "      <th>ZIP</th>\n",
       "      <th>TotalPopulation</th>\n",
       "      <th>Crowding among housing units</th>\n",
       "      <th>Housing cost burden among households</th>\n",
       "      <th>No broadband internet subscription among households</th>\n",
       "      <th>No high school diploma among adults aged 25 years or older</th>\n",
       "      <th>Persons aged 65 years or older</th>\n",
       "      <th>Persons living below 150% of the poverty level</th>\n",
       "      <th>Persons of racial or ethnic minority status</th>\n",
       "      <th>Single-parent households</th>\n",
       "      <th>Unemployment among people 16 years and older in the labor force</th>\n",
       "    </tr>\n",
       "  </thead>\n",
       "  <tbody>\n",
       "    <tr>\n",
       "      <th>0</th>\n",
       "      <td>01001</td>\n",
       "      <td>16088</td>\n",
       "      <td>0.8</td>\n",
       "      <td>24.0</td>\n",
       "      <td>14.9</td>\n",
       "      <td>7.5</td>\n",
       "      <td>22.5</td>\n",
       "      <td>11.7</td>\n",
       "      <td>13.0</td>\n",
       "      <td>5.8</td>\n",
       "      <td>5.4</td>\n",
       "    </tr>\n",
       "    <tr>\n",
       "      <th>1</th>\n",
       "      <td>01002</td>\n",
       "      <td>27323</td>\n",
       "      <td>2.4</td>\n",
       "      <td>38.2</td>\n",
       "      <td>7.1</td>\n",
       "      <td>2.5</td>\n",
       "      <td>13.0</td>\n",
       "      <td>30.7</td>\n",
       "      <td>29.4</td>\n",
       "      <td>5.0</td>\n",
       "      <td>7.0</td>\n",
       "    </tr>\n",
       "    <tr>\n",
       "      <th>2</th>\n",
       "      <td>01003</td>\n",
       "      <td>13711</td>\n",
       "      <td>0.0</td>\n",
       "      <td>0.0</td>\n",
       "      <td>33.3</td>\n",
       "      <td>0.0</td>\n",
       "      <td>0.0</td>\n",
       "      <td>8.1</td>\n",
       "      <td>38.1</td>\n",
       "      <td>0.0</td>\n",
       "      <td>18.9</td>\n",
       "    </tr>\n",
       "    <tr>\n",
       "      <th>3</th>\n",
       "      <td>01005</td>\n",
       "      <td>4947</td>\n",
       "      <td>0.9</td>\n",
       "      <td>15.6</td>\n",
       "      <td>8.2</td>\n",
       "      <td>3.4</td>\n",
       "      <td>13.4</td>\n",
       "      <td>13.4</td>\n",
       "      <td>4.6</td>\n",
       "      <td>5.1</td>\n",
       "      <td>4.2</td>\n",
       "    </tr>\n",
       "    <tr>\n",
       "      <th>4</th>\n",
       "      <td>01007</td>\n",
       "      <td>15304</td>\n",
       "      <td>0.7</td>\n",
       "      <td>19.2</td>\n",
       "      <td>5.7</td>\n",
       "      <td>2.4</td>\n",
       "      <td>16.5</td>\n",
       "      <td>10.2</td>\n",
       "      <td>10.6</td>\n",
       "      <td>3.3</td>\n",
       "      <td>2.5</td>\n",
       "    </tr>\n",
       "  </tbody>\n",
       "</table>\n",
       "</div>"
      ],
      "text/plain": [
       "     ZIP  TotalPopulation  Crowding among housing units  \\\n",
       "0  01001            16088                           0.8   \n",
       "1  01002            27323                           2.4   \n",
       "2  01003            13711                           0.0   \n",
       "3  01005             4947                           0.9   \n",
       "4  01007            15304                           0.7   \n",
       "\n",
       "   Housing cost burden among households  \\\n",
       "0                                  24.0   \n",
       "1                                  38.2   \n",
       "2                                   0.0   \n",
       "3                                  15.6   \n",
       "4                                  19.2   \n",
       "\n",
       "   No broadband internet subscription among households  \\\n",
       "0                                               14.9     \n",
       "1                                                7.1     \n",
       "2                                               33.3     \n",
       "3                                                8.2     \n",
       "4                                                5.7     \n",
       "\n",
       "   No high school diploma among adults aged 25 years or older  \\\n",
       "0                                                7.5            \n",
       "1                                                2.5            \n",
       "2                                                0.0            \n",
       "3                                                3.4            \n",
       "4                                                2.4            \n",
       "\n",
       "   Persons aged 65 years or older  \\\n",
       "0                            22.5   \n",
       "1                            13.0   \n",
       "2                             0.0   \n",
       "3                            13.4   \n",
       "4                            16.5   \n",
       "\n",
       "   Persons living below 150% of the poverty level  \\\n",
       "0                                            11.7   \n",
       "1                                            30.7   \n",
       "2                                             8.1   \n",
       "3                                            13.4   \n",
       "4                                            10.2   \n",
       "\n",
       "   Persons of racial or ethnic minority status  Single-parent households  \\\n",
       "0                                         13.0                       5.8   \n",
       "1                                         29.4                       5.0   \n",
       "2                                         38.1                       0.0   \n",
       "3                                          4.6                       5.1   \n",
       "4                                         10.6                       3.3   \n",
       "\n",
       "   Unemployment among people 16 years and older in the labor force  \n",
       "0                                                5.4                \n",
       "1                                                7.0                \n",
       "2                                               18.9                \n",
       "3                                                4.2                \n",
       "4                                                2.5                "
      ]
     },
     "execution_count": 78,
     "metadata": {},
     "output_type": "execute_result"
    }
   ],
   "source": [
    "df_sdoh_essential_wide.head()"
   ]
  },
  {
   "cell_type": "code",
   "execution_count": null,
   "metadata": {},
   "outputs": [],
   "source": [
    "df_income_1901_essential, df_health_outcomes_essential_wide, df_sdoh_essential_wide"
   ]
  },
  {
   "cell_type": "code",
   "execution_count": 90,
   "metadata": {},
   "outputs": [],
   "source": [
    "combined_dataset_zip=pd.merge(pd.merge(pd.merge(df_income_1901_essential, df_health_outcomes_essential_wide, on=\"ZIP\", how=\"outer\"), \n",
    "         df_sdoh_essential_wide, on=\"ZIP\", how=\"outer\"), df_acs_edited, on=\"ZIP\", how=\"outer\")"
   ]
  },
  {
   "cell_type": "code",
   "execution_count": 92,
   "metadata": {},
   "outputs": [],
   "source": [
    "combined_dataset_zip.to_pickle(output_path+\"\\\\combined_dataset_zip.pkl\")"
   ]
  },
  {
   "cell_type": "code",
   "execution_count": null,
   "metadata": {},
   "outputs": [],
   "source": [
    "df_state_politics_edited, df_state_public_spend_edited"
   ]
  },
  {
   "cell_type": "code",
   "execution_count": null,
   "metadata": {},
   "outputs": [],
   "source": []
  }
 ],
 "metadata": {
  "kernelspec": {
   "display_name": "umich_ds",
   "language": "python",
   "name": "python3"
  },
  "language_info": {
   "codemirror_mode": {
    "name": "ipython",
    "version": 3
   },
   "file_extension": ".py",
   "mimetype": "text/x-python",
   "name": "python",
   "nbconvert_exporter": "python",
   "pygments_lexer": "ipython3",
   "version": "3.11.7"
  }
 },
 "nbformat": 4,
 "nbformat_minor": 2
}
